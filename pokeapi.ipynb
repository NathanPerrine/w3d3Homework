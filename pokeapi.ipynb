{
 "cells": [
  {
   "cell_type": "code",
   "execution_count": 77,
   "metadata": {},
   "outputs": [],
   "source": [
    "import requests"
   ]
  },
  {
   "cell_type": "code",
   "execution_count": 76,
   "metadata": {},
   "outputs": [],
   "source": [
    "from IPython.display import Image, display\n"
   ]
  },
  {
   "cell_type": "markdown",
   "metadata": {},
   "source": [
    "Pokemon API Wrapper\n",
    "\n",
    "Create a python wrapper for the Pokemon API. It should take in a pokemon name and display the pokemon with its height and weight."
   ]
  },
  {
   "cell_type": "code",
   "execution_count": 78,
   "metadata": {},
   "outputs": [],
   "source": [
    "class PokeAPI:\n",
    "    def __init__(self, pokemon):\n",
    "        self.base_url = 'https://pokeapi.co/api/v2/pokemon/'\n",
    "        self.pokemon = pokemon\n",
    "\n",
    "    def _get(self):\n",
    "        request_url = f\"{self.base_url}{self.pokemon}\"\n",
    "        poke_res = requests.get(request_url)\n",
    "        if poke_res.ok:\n",
    "            return poke_res.json()\n",
    "        else:\n",
    "            print(\"That Pokémon does not exist.\")\n",
    "\n",
    "    def get_name(self):\n",
    "        pokedata = self._get()\n",
    "        return f\"Pokémon name: {pokedata['name'].title()}\"\n",
    "\n",
    "    def get_height(self):\n",
    "        pokedata = self._get()\n",
    "        return f\"{pokedata['name'].title()} has a height of: {pokedata['height']}\"\n",
    "\n",
    "    def get_weight(self):\n",
    "        pokedata = self._get()\n",
    "        return f\"{pokedata['name'].title()} has a weight of: {pokedata['weight']}\"\n",
    "        pass\n",
    "\n",
    "    def get_sprite(self):\n",
    "        pokedata = self._get()\n",
    "        front_sprite = pokedata['sprites']['front_default']\n",
    "        return front_sprite\n",
    "\n",
    "    def __str__(self):\n",
    "        pokedata = self._get()\n",
    "        return f\"{pokedata['name'].title()} has a height of: {pokedata['height']} and a weight of {pokedata['weight']}.\""
   ]
  },
  {
   "cell_type": "code",
   "execution_count": 81,
   "metadata": {},
   "outputs": [],
   "source": [
    "def main():\n",
    "    while True:\n",
    "        pokemon = input(\"Enter the Pokémon you want information about or enter 'quit' to quit: \").lower()\n",
    "        if pokemon == 'quit':\n",
    "            break\n",
    "\n",
    "        pokeclient = PokeAPI(pokemon)\n",
    "        restart = False\n",
    "        \n",
    "        while True:\n",
    "\n",
    "            data = input(f\"What data would you like about {pokemon.title()}? (height/weight/sprite/list) \").lower()\n",
    "            \n",
    "            while data not in {'height', 'weight', 'sprite', 'list'}:\n",
    "                data = input(\"Please enter a valid request: (height/weight/sprite/list/quit) \")\n",
    "                continue\n",
    "\n",
    "            if data == 'height':\n",
    "                print(pokeclient.get_height())\n",
    "            elif data == 'weight':\n",
    "                print(pokeclient.get_weight())\n",
    "            elif data == 'list':\n",
    "                print(pokeclient)\n",
    "            elif data == 'sprite':\n",
    "                display(Image(pokeclient.get_sprite()))\n",
    "            elif data == 'quit':\n",
    "                break\n",
    "\n",
    "            restart = input(\"Would you like to enter a new Pokémon? (y/n/quit) \")\n",
    "            if restart == 'y':\n",
    "                break\n",
    "            elif restart == 'quit':\n",
    "                break\n",
    "        if restart == 'quit':\n",
    "            break\n",
    "\n",
    "\n"
   ]
  },
  {
   "cell_type": "code",
   "execution_count": 82,
   "metadata": {},
   "outputs": [
    {
     "name": "stdout",
     "output_type": "stream",
     "text": [
      "Vulpix has a height of: 6 and a weight of 99.\n"
     ]
    },
    {
     "data": {
      "image/png": "[encoded data removed]",
      "text/plain": [
       "<IPython.core.display.Image object>"
      ]
     },
     "metadata": {},
     "output_type": "display_data"
    },
    {
     "name": "stdout",
     "output_type": "stream",
     "text": [
      "Mawile has a height of: 6 and a weight of 115.\n"
     ]
    },
    {
     "data": {
      "image/png": "[encoded data removed]",
      "text/plain": [
       "<IPython.core.display.Image object>"
      ]
     },
     "metadata": {},
     "output_type": "display_data"
    },
    {
     "name": "stdout",
     "output_type": "stream",
     "text": [
      "Bulbasaur has a height of: 7 and a weight of 69.\n"
     ]
    },
    {
     "data": {
      "image/png": "[encoded data removed]",
      "text/plain": [
       "<IPython.core.display.Image object>"
      ]
     },
     "metadata": {},
     "output_type": "display_data"
    },
    {
     "name": "stdout",
     "output_type": "stream",
     "text": [
      "Ditto has a height of: 3 and a weight of 40.\n"
     ]
    },
    {
     "data": {
      "image/png": "[encoded data removed]",
      "text/plain": [
       "<IPython.core.display.Image object>"
      ]
     },
     "metadata": {},
     "output_type": "display_data"
    }
   ],
   "source": [
    "main()"
   ]
  },
  {
   "cell_type": "code",
   "execution_count": null,
   "metadata": {},
   "outputs": [],
   "source": []
  }
 ],
 "metadata": {
  "interpreter": {
   "hash": "16dd1f0e6febe29089962fb2487a942d8d2b9927ae6d9b119e77798fd68476cf"
  },
  "kernelspec": {
   "display_name": "Python 3 (ipykernel)",
   "language": "python",
   "name": "python3"
  },
  "language_info": {
   "codemirror_mode": {
    "name": "ipython",
    "version": 3
   },
   "file_extension": ".py",
   "mimetype": "text/x-python",
   "name": "python",
   "nbconvert_exporter": "python",
   "pygments_lexer": "ipython3",
   "version": "3.9.7"
  }
 },
 "nbformat": 4,
 "nbformat_minor": 2
}
