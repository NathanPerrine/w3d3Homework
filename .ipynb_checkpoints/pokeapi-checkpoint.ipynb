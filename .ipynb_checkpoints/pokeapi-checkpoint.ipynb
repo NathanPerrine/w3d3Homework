{
 "cells": [
  {
   "cell_type": "code",
   "execution_count": 1,
   "metadata": {},
   "outputs": [],
   "source": [
    "import requests"
   ]
  },
  {
   "cell_type": "code",
   "execution_count": 1,
   "metadata": {},
   "outputs": [
    {
     "ename": "ModuleNotFoundError",
     "evalue": "No module named 'IPython.dislpay'",
     "output_type": "error",
     "traceback": [
      "\u001b[1;31m---------------------------------------------------------------------------\u001b[0m",
      "\u001b[1;31mModuleNotFoundError\u001b[0m                       Traceback (most recent call last)",
      "Input \u001b[1;32mIn [1]\u001b[0m, in \u001b[0;36m<cell line: 1>\u001b[1;34m()\u001b[0m\n\u001b[1;32m----> 1\u001b[0m \u001b[38;5;28;01mimport\u001b[39;00m \u001b[38;5;21;01mIPython\u001b[39;00m\u001b[38;5;21;01m.\u001b[39;00m\u001b[38;5;21;01mdislpay\u001b[39;00m \u001b[38;5;28;01mas\u001b[39;00m \u001b[38;5;21;01mdisplay\u001b[39;00m\n",
      "\u001b[1;31mModuleNotFoundError\u001b[0m: No module named 'IPython.dislpay'"
     ]
    }
   ],
   "source": [
    "import IPython.dislpay as display"
   ]
  },
  {
   "cell_type": "markdown",
   "metadata": {},
   "source": [
    "Pokemon API Wrapper\n",
    "\n",
    "Create a python wrapper for the Pokemon API. It should take in a pokemon name and display the pokemon with its height and weight."
   ]
  },
  {
   "cell_type": "code",
   "execution_count": 2,
   "metadata": {},
   "outputs": [],
   "source": [
    "class PokeAPI:\n",
    "    def __init__(self):\n",
    "        self.base_url = 'https://pokeapi.co/api/v2/pokemon/'\n",
    "\n",
    "    def _get(self, pokemon):\n",
    "        request_url = f\"{self.base_url}{pokemon}\"\n",
    "        poke_res = requests.get(request_url)\n",
    "        if poke_res.ok:\n",
    "            return poke_res.json()\n",
    "        else:\n",
    "            print(\"You done goofed.\")\n",
    "\n",
    "    def get_name(self, pokename):\n",
    "        pokedata = self._get(pokename.lower())\n",
    "        return f\"Pokémon name: {pokedata['name'].title()}\"\n",
    "\n",
    "    def get_height(self, pokename):\n",
    "        pokedata = self._get(pokename.lower())\n",
    "        return f\"{pokedata['name'].title()} has a height of: {pokedata['height']}\"\n",
    "\n",
    "    def get_weight(self, pokename):\n",
    "        pokedata = self._get(pokename.lower())\n",
    "        return f\"{pokedata['name'].title()} has a weight of: {pokedata['weight']}\"\n",
    "        pass\n",
    "\n",
    "\n",
    "\n",
    "pokeclient = PokeAPI()"
   ]
  },
  {
   "cell_type": "code",
   "execution_count": 3,
   "metadata": {},
   "outputs": [
    {
     "data": {
      "text/plain": [
       "'Pokémon name: Vulpix'"
      ]
     },
     "execution_count": 3,
     "metadata": {},
     "output_type": "execute_result"
    }
   ],
   "source": [
    "pokeclient.get_name('Vulpix')"
   ]
  },
  {
   "cell_type": "code",
   "execution_count": 4,
   "metadata": {},
   "outputs": [
    {
     "data": {
      "text/plain": [
       "'Mawile has a height of: 6'"
      ]
     },
     "execution_count": 4,
     "metadata": {},
     "output_type": "execute_result"
    }
   ],
   "source": [
    "pokeclient.get_height('Mawile')"
   ]
  },
  {
   "cell_type": "code",
   "execution_count": 5,
   "metadata": {},
   "outputs": [
    {
     "data": {
      "text/plain": [
       "'Bulbasaur has a weight of: 69'"
      ]
     },
     "execution_count": 5,
     "metadata": {},
     "output_type": "execute_result"
    }
   ],
   "source": [
    "pokeclient.get_weight('Bulbasaur')"
   ]
  },
  {
   "cell_type": "code",
   "execution_count": 15,
   "metadata": {},
   "outputs": [],
   "source": [
    "def main():\n",
    "    pokeclient = PokeAPI()\n",
    "\n",
    "    while True:\n",
    "        pokemon = input(\"Enter the Pokémon you want information about or enter 'quit' to quit: \").lower()\n",
    "        if pokemon == 'quit':\n",
    "            break\n",
    "        \n",
    "        data = input(f\"What data would you like about {pokemon.title()}? (height/weight) \")\n",
    "        \n",
    "        while data not in {'height', 'weight'}:\n",
    "            data = input(\"Please enter a valid request: (height/weight) \")\n",
    "            continue\n",
    "\n",
    "        if data == 'height':\n",
    "            print(pokeclient.get_height(pokemon))\n",
    "        elif data == 'weight':\n",
    "            print(pokeclient.get_weight(pokemon))\n",
    "\n"
   ]
  },
  {
   "cell_type": "code",
   "execution_count": 16,
   "metadata": {},
   "outputs": [
    {
     "name": "stdout",
     "output_type": "stream",
     "text": [
      "Vulpix has a height of: 6\n",
      "Mawile has a weight of: 115\n"
     ]
    }
   ],
   "source": [
    "main()"
   ]
  }
 ],
 "metadata": {
  "interpreter": {
   "hash": "16dd1f0e6febe29089962fb2487a942d8d2b9927ae6d9b119e77798fd68476cf"
  },
  "kernelspec": {
   "display_name": "Python 3 (ipykernel)",
   "language": "python",
   "name": "python3"
  },
  "language_info": {
   "codemirror_mode": {
    "name": "ipython",
    "version": 3
   },
   "file_extension": ".py",
   "mimetype": "text/x-python",
   "name": "python",
   "nbconvert_exporter": "python",
   "pygments_lexer": "ipython3",
   "version": "3.9.7"
  }
 },
 "nbformat": 4,
 "nbformat_minor": 2
}
